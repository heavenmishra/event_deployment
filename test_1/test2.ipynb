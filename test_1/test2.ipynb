{
  "nbformat": 4,
  "nbformat_minor": 0,
  "metadata": {
    "colab": {
      "provenance": []
    },
    "kernelspec": {
      "name": "python3",
      "display_name": "Python 3"
    },
    "language_info": {
      "name": "python"
    }
  },
  "cells": [
    {
      "cell_type": "code",
      "execution_count": null,
      "metadata": {
        "id": "l95q4RAr2mAz"
      },
      "outputs": [],
      "source": [
        "table_=spark.sql(\"\"\"select * from table\n",
        "asfgcbdha kajhfl\n",
        "kjhgadflkjjejafgkaf\n",
        "jhdfk\n",
        "jafk\n",
        "kjafl\n",
        "aiyeo\"\"\")\n",
        "table_=createOrReplaceTempView(\"table_\")"
      ]
    },
    {
      "cell_type": "code",
      "source": [
        "table_1=spark.sql(\"\"\"Update * from table\n",
        "asfgcbdha kajhfl\n",
        "kjhgadflkjjejafgkaf\n",
        "jhdfk\n",
        "jafk\n",
        "kjafl\n",
        "aiyeo\"\"\")\n",
        "table_=createOrReplaceTempView(\"table_1\")"
      ],
      "metadata": {
        "id": "WuTvL43u2wOS"
      },
      "execution_count": null,
      "outputs": []
    },
    {
      "cell_type": "code",
      "source": [
        "table_2=spark.sql(\"\"\"detele * from table\n",
        "asfgcbdha kajhfl\n",
        "kjhgadflkjjejafgkaf\n",
        "jhdfk\n",
        "jafk\n",
        "kjafl\n",
        "aiyeo\"\"\")\n",
        "table_=createOrReplaceTempView(\"table_2\")"
      ],
      "metadata": {
        "id": "SitkbnAI20Cm"
      },
      "execution_count": null,
      "outputs": []
    },
    {
      "cell_type": "code",
      "source": [
        "table_3=spark.sql(\"\"\"select * from abc_table\n",
        "asfgcbdha kajhfl\n",
        "kjhgadflkjjejafgkaf\n",
        "jhdfk\n",
        "jafk\n",
        "kjafl\n",
        "aiyeo\"\"\")\n",
        "table_=createOrReplaceTempView(\"table_3\")"
      ],
      "metadata": {
        "id": "cdBY-mpa23DT"
      },
      "execution_count": null,
      "outputs": []
    }
  ]
}