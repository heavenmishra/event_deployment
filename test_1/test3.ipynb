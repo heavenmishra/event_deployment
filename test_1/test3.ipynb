{
  "nbformat": 4,
  "nbformat_minor": 0,
  "metadata": {
    "colab": {
      "provenance": []
    },
    "kernelspec": {
      "name": "python3",
      "display_name": "Python 3"
    },
    "language_info": {
      "name": "python"
    }
  },
  "cells": [
    {
      "cell_type": "code",
      "source": [
        "import math\n",
        "import os\n",
        "import sys\n",
        "import time\n",
        "import random\n",
        "import urlparse\n",
        "import json\n",
        "from random import randint\n",
        "from datetime import datetime\n",
        "from math import pi\n",
        "from sys import version_info\n",
        "\n",
        "table_=spark.sql(\"\"\"select * from table\n",
        "asfgcbdha kajhfl\n",
        "kjhgadflkjjejafgkaf\n",
        "jhdfk\n",
        "jafk\n",
        "kjafl\n",
        "aiyeo\"\"\")\n",
        "table_=createOrReplaceTempView(\"table_\")\n",
        "\n",
        "table_1=spark.sql(\"\"\"Update * from table\n",
        "asfgcbdha kajhfl\n",
        "kjhgadflkjjejafgkaf\n",
        "jhdfk\n",
        "jafk\n",
        "kjafl\n",
        "aiyeo\"\"\")\n",
        "table_=createOrReplaceTempView(\"table_1\")\n",
        "\n",
        "table_2=spark.sql(\"\"\"detele * from table\n",
        "asfgcbdha kajhfl\n",
        "kjhgadflkjjejafgkaf\n",
        "jhdfk\n",
        "jafk\n",
        "kjafl\n",
        "aiyeo\"\"\")\n",
        "table_=createOrReplaceTempView(\"table_2\")\n",
        "\n",
        "table_3=spark.sql(\"\"\"select * from abc_table\n",
        "asfgcbdha kajhfl\n",
        "kjhgadflkjjejafgkaf\n",
        "jhdfk\n",
        "jafk\n",
        "kjafl\n",
        "aiyeo\"\"\")\n",
        "table_=createOrReplaceTempView(\"table_3\")"
      ],
      "metadata": {
        "id": "yEAaS2Qm7ODW"
      },
      "execution_count": null,
      "outputs": []
    },
    {
      "cell_type": "code",
      "execution_count": null,
      "metadata": {
        "id": "l95q4RAr2mAz"
      },
      "outputs": [],
      "source": []
    },
    {
      "cell_type": "code",
      "source": [],
      "metadata": {
        "id": "WuTvL43u2wOS"
      },
      "execution_count": null,
      "outputs": []
    },
    {
      "cell_type": "code",
      "source": [],
      "metadata": {
        "id": "SitkbnAI20Cm"
      },
      "execution_count": null,
      "outputs": []
    },
    {
      "cell_type": "code",
      "source": [],
      "metadata": {
        "id": "cdBY-mpa23DT"
      },
      "execution_count": null,
      "outputs": []
    }
  ]
}